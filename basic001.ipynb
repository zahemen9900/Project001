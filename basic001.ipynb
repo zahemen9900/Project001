import numpy as np
import pandas
import matplotlib.pyplot as plt
import seaborn as sns

x = np.arange(20)
y = [i ** 2 for i in x]

plt.figure(figsize = (8, 5))
sns.lineplot(x, y)
plt.show()
